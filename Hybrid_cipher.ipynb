{
  "nbformat": 4,
  "nbformat_minor": 0,
  "metadata": {
    "colab": {
      "provenance": [],
      "authorship_tag": "ABX9TyNSvJE1LNBziw1o905x9Ash",
      "include_colab_link": true
    },
    "kernelspec": {
      "name": "python3",
      "display_name": "Python 3"
    },
    "language_info": {
      "name": "python"
    }
  },
  "cells": [
    {
      "cell_type": "markdown",
      "metadata": {
        "id": "view-in-github",
        "colab_type": "text"
      },
      "source": [
        "<a href=\"https://colab.research.google.com/github/manishashetty29/Hybrid_cipher/blob/main/Hybrid_cipher.ipynb\" target=\"_parent\"><img src=\"https://colab.research.google.com/assets/colab-badge.svg\" alt=\"Open In Colab\"/></a>"
      ]
    },
    {
      "cell_type": "code",
      "execution_count": 1,
      "metadata": {
        "colab": {
          "base_uri": "https://localhost:8080/"
        },
        "id": "XNKIKvsGRx-d",
        "outputId": "ca7a6997-ff69-4de3-a6dd-314c4e95d3fc"
      },
      "outputs": [
        {
          "output_type": "stream",
          "name": "stdout",
          "text": [
            "Encrypted Text: KKIWTXEKXTISQ\n",
            "Decrypted Text: SECUREMESSAGE\n"
          ]
        }
      ],
      "source": [
        "import numpy as np\n",
        "\n",
        "# Vigenère Cipher Encryption\n",
        "def vigenere_encrypt(plaintext, key):\n",
        "    encrypted_text = []\n",
        "    key_length = len(key)\n",
        "\n",
        "    for i, char in enumerate(plaintext):\n",
        "        if char.isalpha():\n",
        "            shift = ord(key[i % key_length].upper()) - ord('A')\n",
        "            if char.isupper():\n",
        "                encrypted_text.append(chr((ord(char) - ord('A') + shift) % 26 + ord('A')))\n",
        "            else:\n",
        "                encrypted_text.append(chr((ord(char) - ord('a') + shift) % 26 + ord('a')))\n",
        "        else:\n",
        "            encrypted_text.append(char)\n",
        "\n",
        "    return ''.join(encrypted_text)\n",
        "\n",
        "# Vigenère Cipher Decryption\n",
        "def vigenere_decrypt(ciphertext, key):\n",
        "    decrypted_text = []\n",
        "    key_length = len(key)\n",
        "\n",
        "    for i, char in enumerate(ciphertext):\n",
        "        if char.isalpha():\n",
        "            shift = ord(key[i % key_length].upper()) - ord('A')\n",
        "            if char.isupper():\n",
        "                decrypted_text.append(chr((ord(char) - ord('A') - shift) % 26 + ord('A')))\n",
        "            else:\n",
        "                decrypted_text.append(chr((ord(char) - ord('a') - shift) % 26 + ord('a')))\n",
        "        else:\n",
        "            decrypted_text.append(char)\n",
        "\n",
        "    return ''.join(decrypted_text)\n",
        "\n",
        "# Columnar Transposition Encryption\n",
        "def columnar_transposition_encrypt(text, key):\n",
        "    key_order = sorted(list(key))\n",
        "    col_order = {char: i for i, char in enumerate(key)}\n",
        "    sorted_indices = sorted(col_order, key=lambda x: key_order.index(x))\n",
        "\n",
        "    num_cols = len(key)\n",
        "    num_rows = int(np.ceil(len(text) / num_cols))\n",
        "\n",
        "    grid = [['' for _ in range(num_cols)] for _ in range(num_rows)]\n",
        "\n",
        "    index = 0\n",
        "    for r in range(num_rows):\n",
        "        for c in range(num_cols):\n",
        "            if index < len(text):\n",
        "                grid[r][c] = text[index]\n",
        "                index += 1\n",
        "\n",
        "    encrypted_text = ''\n",
        "    for index in sorted_indices:\n",
        "        col_num = col_order[index]\n",
        "        for r in range(num_rows):\n",
        "            encrypted_text += grid[r][col_num] if grid[r][col_num] else ''\n",
        "\n",
        "    return encrypted_text\n",
        "\n",
        "# Columnar Transposition Decryption\n",
        "def columnar_transposition_decrypt(ciphertext, key):\n",
        "    key_order = sorted(list(key))\n",
        "    col_order = {char: i for i, char in enumerate(key)}\n",
        "    sorted_indices = sorted(col_order, key=lambda x: key_order.index(x))\n",
        "\n",
        "    num_cols = len(key)\n",
        "    num_rows = int(np.ceil(len(ciphertext) / num_cols))\n",
        "\n",
        "    # Determine number of full and partial columns\n",
        "    full_cols = len(ciphertext) % num_cols\n",
        "    full_rows = num_rows if full_cols == 0 else num_rows - 1\n",
        "\n",
        "    grid = [['' for _ in range(num_cols)] for _ in range(num_rows)]\n",
        "\n",
        "    index = 0\n",
        "    for idx in sorted_indices:\n",
        "        col_num = col_order[idx]\n",
        "        col_height = full_rows if col_num >= full_cols else num_rows\n",
        "        for r in range(col_height):\n",
        "            grid[r][col_num] = ciphertext[index]\n",
        "            index += 1\n",
        "\n",
        "    decrypted_text = ''\n",
        "    for r in range(num_rows):\n",
        "        for c in range(num_cols):\n",
        "            decrypted_text += grid[r][c] if grid[r][c] else ''\n",
        "\n",
        "    return decrypted_text\n",
        "\n",
        "# Hybrid Encryption\n",
        "def hybrid_encrypt(plaintext, vig_key, trans_key):\n",
        "    step1 = vigenere_encrypt(plaintext, vig_key)\n",
        "    step2 = columnar_transposition_encrypt(step1, trans_key)\n",
        "    return step2\n",
        "\n",
        "# Hybrid Decryption\n",
        "def hybrid_decrypt(ciphertext, vig_key, trans_key):\n",
        "    step1 = columnar_transposition_decrypt(ciphertext, trans_key)\n",
        "    step2 = vigenere_decrypt(step1, vig_key)\n",
        "    return step2\n",
        "\n",
        "# Example Usage\n",
        "plaintext = \"SECUREMESSAGE\"\n",
        "vig_key = \"STRONGKEY\"\n",
        "trans_key = \"COLUMNKEY\"\n",
        "\n",
        "# Encrypt\n",
        "encrypted_text = hybrid_encrypt(plaintext, vig_key, trans_key)\n",
        "print(f\"Encrypted Text: {encrypted_text}\")\n",
        "\n",
        "# Decrypt\n",
        "decrypted_text = hybrid_decrypt(encrypted_text, vig_key, trans_key)\n",
        "print(f\"Decrypted Text: {decrypted_text}\")\n"
      ]
    }
  ]
}